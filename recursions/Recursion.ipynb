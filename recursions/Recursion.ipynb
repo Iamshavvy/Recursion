{
 "cells": [
  {
   "cell_type": "code",
   "execution_count": 2,
   "id": "c64f8bb2",
   "metadata": {},
   "outputs": [],
   "source": [
    "def factorial(n):\n",
    "    if n==0 or n==1:\n",
    "        return 1\n",
    "    return n*factorial(n-1)"
   ]
  },
  {
   "cell_type": "code",
   "execution_count": 8,
   "id": "d1f8bb97",
   "metadata": {},
   "outputs": [
    {
     "name": "stdout",
     "output_type": "stream",
     "text": [
      "1\n"
     ]
    }
   ],
   "source": [
    "print(factorial(0))"
   ]
  },
  {
   "cell_type": "code",
   "execution_count": 4,
   "id": "a284c6b3",
   "metadata": {},
   "outputs": [],
   "source": [
    "def print1ton(n):\n",
    "    if n==0:\n",
    "        return\n",
    "    print(n)\n",
    "    print1ton(n-1)"
   ]
  },
  {
   "cell_type": "code",
   "execution_count": 5,
   "id": "26989117",
   "metadata": {},
   "outputs": [
    {
     "name": "stdout",
     "output_type": "stream",
     "text": [
      "10\n",
      "9\n",
      "8\n",
      "7\n",
      "6\n",
      "5\n",
      "4\n",
      "3\n",
      "2\n",
      "1\n"
     ]
    }
   ],
   "source": [
    "print1ton(10)"
   ]
  },
  {
   "cell_type": "markdown",
   "id": "7e24beaa",
   "metadata": {},
   "source": [
    "# sum of array"
   ]
  },
  {
   "cell_type": "code",
   "execution_count": 2,
   "id": "1fa33d2f",
   "metadata": {},
   "outputs": [],
   "source": [
    "def sumArray(arr):\n",
    "    l=len(arr)\n",
    "    if(l==1):\n",
    "        return arr[0]\n",
    "    return arr[0]+sumArray(arr[1:])\n"
   ]
  },
  {
   "cell_type": "code",
   "execution_count": 4,
   "id": "a86c081d",
   "metadata": {},
   "outputs": [
    {
     "name": "stdout",
     "output_type": "stream",
     "text": [
      "21\n"
     ]
    }
   ],
   "source": [
    "arr=[1,2,3,4,5,6]\n",
    "print(sumArray(arr))"
   ]
  },
  {
   "cell_type": "markdown",
   "id": "e0fc2571",
   "metadata": {},
   "source": [
    "# Check number in array"
   ]
  },
  {
   "cell_type": "code",
   "execution_count": 11,
   "id": "f2d6549b",
   "metadata": {},
   "outputs": [],
   "source": [
    "def checkNumber(arr, x):\n",
    "    l=len(arr)\n",
    "    if l==0:\n",
    "        return False\n",
    "    if arr[0]==x:\n",
    "        return True\n",
    "    return checkNumber(arr[1:],x)"
   ]
  },
  {
   "cell_type": "code",
   "execution_count": 17,
   "id": "87220c84",
   "metadata": {},
   "outputs": [
    {
     "name": "stdout",
     "output_type": "stream",
     "text": [
      "False\n"
     ]
    }
   ],
   "source": [
    "arr=[1,2,3,4,5,6]\n",
    "print(checkNumber(arr,-22))"
   ]
  },
  {
   "cell_type": "markdown",
   "id": "1ed3efbc",
   "metadata": {},
   "source": [
    "# Check sorted list"
   ]
  },
  {
   "cell_type": "code",
   "execution_count": 21,
   "id": "8e58e239",
   "metadata": {},
   "outputs": [
    {
     "data": {
      "text/plain": [
       "'we can work in two ways\\n1) pass array each time from arr[1:] and check arr[0]>arr[1] return false otherwise if leng==0 return true\\n2) take start indec and pass arr,si+1 everytime check arr[si]>arr[si+1] return false if leng==0 or si==l return true'"
      ]
     },
     "execution_count": 21,
     "metadata": {},
     "output_type": "execute_result"
    }
   ],
   "source": [
    "'''we can work in two ways\n",
    "1) pass array each time from arr[1:] and check arr[0]>arr[1] return false otherwise if leng==0 return true\n",
    "2) take start indec and pass arr,si+1 everytime check arr[si]>arr[si+1] return false if leng==0 or si==l return true'''"
   ]
  },
  {
   "cell_type": "markdown",
   "id": "a4e2290a",
   "metadata": {},
   "source": [
    "# First Index Of Number"
   ]
  },
  {
   "cell_type": "code",
   "execution_count": 30,
   "id": "f7b77b17",
   "metadata": {},
   "outputs": [],
   "source": [
    "def firstIndex(arr,si,x):\n",
    "    l=len(arr)\n",
    "    if arr[si]==x:\n",
    "        return si\n",
    "    if si==l:\n",
    "        return -1\n",
    "    return firstIndex(arr,si+1,x)\n",
    "    "
   ]
  },
  {
   "cell_type": "code",
   "execution_count": 50,
   "id": "3cb77d68",
   "metadata": {},
   "outputs": [
    {
     "name": "stdout",
     "output_type": "stream",
     "text": [
      "-1\n"
     ]
    }
   ],
   "source": [
    "arr=[1,2,3,4,5,6]\n",
    "print(firstIndexBetter(arr,7))"
   ]
  },
  {
   "cell_type": "code",
   "execution_count": 48,
   "id": "9b7605cf",
   "metadata": {},
   "outputs": [],
   "source": [
    "def firstIndexBetter(arr,x):\n",
    "    l=len(arr)\n",
    "    if l==0:\n",
    "        return -1\n",
    "    if (arr[0]==x):\n",
    "        return 0\n",
    "    smalllistout=firstIndexBetter(arr[1:],x)\n",
    "    if smalllistout==-1:\n",
    "        return -1\n",
    "    else:\n",
    "        return smalllistout+1\n"
   ]
  },
  {
   "cell_type": "markdown",
   "id": "65535105",
   "metadata": {},
   "source": [
    "# Last Index Of Number"
   ]
  },
  {
   "cell_type": "code",
   "execution_count": 62,
   "id": "b56d5ba2",
   "metadata": {},
   "outputs": [],
   "source": [
    "def lastIndex(arr,x):\n",
    "    l=len(arr)\n",
    "    if l==0:\n",
    "        return -1\n",
    "    smalllistout=lastIndex(arr[1:],x)\n",
    "    if smalllistout==-1:\n",
    "        if arr[0]==x:\n",
    "            return 0\n",
    "        else:\n",
    "            return -1\n",
    "    else:\n",
    "        return smalllistout+1\n",
    "        \n",
    "    "
   ]
  },
  {
   "cell_type": "markdown",
   "id": "8c651e3f",
   "metadata": {},
   "source": [
    "using starting index si"
   ]
  },
  {
   "cell_type": "code",
   "execution_count": 5,
   "id": "7fb999ef",
   "metadata": {},
   "outputs": [],
   "source": [
    "def lastIndexBetter(arr,x,si):\n",
    "    l=len(arr)\n",
    "    if si==l:\n",
    "        return -1\n",
    "    smalllistout=lastIndexBetter(arr,x,si+1)\n",
    "    if smalllistout!=-1:\n",
    "        return smalllistout\n",
    "\n",
    "    else:\n",
    "        if arr[si]==x:\n",
    "            return si\n",
    "        else:\n",
    "            return -1"
   ]
  },
  {
   "cell_type": "code",
   "execution_count": 6,
   "id": "f5d0f63b",
   "metadata": {},
   "outputs": [
    {
     "name": "stdout",
     "output_type": "stream",
     "text": [
      "7\n"
     ]
    }
   ],
   "source": [
    "arr=[1,2,3,4,5,6,1,2]\n",
    "print(lastIndexBetter(arr,2,0))"
   ]
  },
  {
   "cell_type": "code",
   "execution_count": null,
   "id": "3b980363",
   "metadata": {},
   "outputs": [],
   "source": []
  }
 ],
 "metadata": {
  "kernelspec": {
   "display_name": "Python 3 (ipykernel)",
   "language": "python",
   "name": "python3"
  },
  "language_info": {
   "codemirror_mode": {
    "name": "ipython",
    "version": 3
   },
   "file_extension": ".py",
   "mimetype": "text/x-python",
   "name": "python",
   "nbconvert_exporter": "python",
   "pygments_lexer": "ipython3",
   "version": "3.9.12"
  }
 },
 "nbformat": 4,
 "nbformat_minor": 5
}
