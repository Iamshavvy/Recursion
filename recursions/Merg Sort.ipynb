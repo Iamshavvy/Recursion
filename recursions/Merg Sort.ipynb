{
 "cells": [
  {
   "cell_type": "markdown",
   "id": "6291323e",
   "metadata": {},
   "source": [
    "# Merge sort"
   ]
  },
  {
   "cell_type": "code",
   "execution_count": 25,
   "id": "687445b9",
   "metadata": {},
   "outputs": [],
   "source": [
    "def merge(arr1,arr2,arr):\n",
    "    n=len(arr1)\n",
    "    m=len(arr2)\n",
    "    i=0\n",
    "    j=0\n",
    "    k=0\n",
    "    \n",
    "    while (i<n) and (j<m):\n",
    "        if arr1[i]<arr2[j]:\n",
    "            arr[k]=arr1[i]\n",
    "            i=i+1\n",
    "            k=k+1\n",
    "            \n",
    "        else:\n",
    "            arr[k]=arr2[j]\n",
    "            j=j+1\n",
    "            k=k+1\n",
    "\n",
    "    while i<n:\n",
    "        arr[k]=arr1[i]\n",
    "        i=i+1\n",
    "        k=k+1\n",
    "    while j<m:\n",
    "        arr[k]=arr2[j]\n",
    "        j=j+1\n",
    "        k=k+1\n",
    "    \n",
    "            "
   ]
  },
  {
   "cell_type": "code",
   "execution_count": 26,
   "id": "b0da1c81",
   "metadata": {},
   "outputs": [],
   "source": [
    "def mergeSort(arr):\n",
    "    if len(arr)==0 or len(arr)==1:\n",
    "        return\n",
    "    mid=len(arr)//2\n",
    "    a1=arr[0:mid]\n",
    "    a2=arr[mid:len(arr)]\n",
    "    mergeSort(a1)\n",
    "    mergeSort(a2)\n",
    "    merge(a1,a2,arr)\n",
    "    "
   ]
  },
  {
   "cell_type": "code",
   "execution_count": 27,
   "id": "179a1aa8",
   "metadata": {},
   "outputs": [
    {
     "data": {
      "text/plain": [
       "[1, 3, 4, 5, 6, 7, 10, 29, 32, 99, 875]"
      ]
     },
     "execution_count": 27,
     "metadata": {},
     "output_type": "execute_result"
    }
   ],
   "source": [
    "arr=[1,3,5,6,7,4,29,10,99,875,32]\n",
    "mergeSort(arr)\n",
    "arr"
   ]
  },
  {
   "cell_type": "code",
   "execution_count": null,
   "id": "521dd51f",
   "metadata": {},
   "outputs": [],
   "source": []
  }
 ],
 "metadata": {
  "kernelspec": {
   "display_name": "Python 3 (ipykernel)",
   "language": "python",
   "name": "python3"
  },
  "language_info": {
   "codemirror_mode": {
    "name": "ipython",
    "version": 3
   },
   "file_extension": ".py",
   "mimetype": "text/x-python",
   "name": "python",
   "nbconvert_exporter": "python",
   "pygments_lexer": "ipython3",
   "version": "3.9.12"
  }
 },
 "nbformat": 4,
 "nbformat_minor": 5
}
