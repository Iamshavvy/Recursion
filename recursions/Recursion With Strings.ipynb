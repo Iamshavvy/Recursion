{
 "cells": [
  {
   "cell_type": "markdown",
   "id": "9607d3ce",
   "metadata": {},
   "source": [
    "# Remove X from String"
   ]
  },
  {
   "cell_type": "code",
   "execution_count": 1,
   "id": "391366a1",
   "metadata": {},
   "outputs": [],
   "source": [
    "def removeX(string):\n",
    "    if len(string)==0:\n",
    "        return \"\"\n",
    "    smallout=removeX(string[1:])\n",
    "    if string[0]=='x':\n",
    "        return smallout\n",
    "    else:\n",
    "        return string[0]+smallout\n",
    "    "
   ]
  },
  {
   "cell_type": "code",
   "execution_count": 4,
   "id": "579e8663",
   "metadata": {},
   "outputs": [
    {
     "name": "stdout",
     "output_type": "stream",
     "text": [
      "abcxhgdkaxa\n",
      "abchgdkaa\n"
     ]
    }
   ],
   "source": [
    "string=input()\n",
    "print(removeX(string))"
   ]
  },
  {
   "cell_type": "markdown",
   "id": "23652d48",
   "metadata": {},
   "source": [
    "# Replace PI with 3.14"
   ]
  },
  {
   "cell_type": "code",
   "execution_count": 5,
   "id": "8159cb36",
   "metadata": {},
   "outputs": [],
   "source": [
    "def replacePi(s):\n",
    "    if len(s)==0 or len(s)==1:\n",
    "        return s\n",
    "    if s[0]=='p' and s[1]=='i':\n",
    "        smallout=replacePi(s[2:])\n",
    "        return '3.14'+smallout\n",
    "    else:\n",
    "        return s[0]+replacePi(s[1:])\n",
    "        "
   ]
  },
  {
   "cell_type": "code",
   "execution_count": 7,
   "id": "d4741000",
   "metadata": {},
   "outputs": [
    {
     "name": "stdout",
     "output_type": "stream",
     "text": [
      "abcpipipiabcpip\n",
      "abc3.143.143.14abc3.14p\n"
     ]
    }
   ],
   "source": [
    "string=input()\n",
    "print(replacePi(string))"
   ]
  },
  {
   "cell_type": "markdown",
   "id": "22ae6e3d",
   "metadata": {},
   "source": [
    "# Remove duplicate recursively"
   ]
  },
  {
   "cell_type": "code",
   "execution_count": 8,
   "id": "7ce65259",
   "metadata": {},
   "outputs": [],
   "source": [
    "def removedup(s):\n",
    "    if len(s)==0 or len(s)==1:\n",
    "        return s\n",
    "    if s[0]==s[1]:\n",
    "        smallout=removedup(s[1:])\n",
    "        return smallout\n",
    "    else:\n",
    "        return s[0]+removedup(s[1:])\n",
    "    \n",
    "    "
   ]
  },
  {
   "cell_type": "code",
   "execution_count": 11,
   "id": "7ae82fc3",
   "metadata": {},
   "outputs": [
    {
     "name": "stdout",
     "output_type": "stream",
     "text": [
      "abbbcccdadahbcajaaaa\n",
      "abcdadahbcaja\n"
     ]
    }
   ],
   "source": [
    "s=input()\n",
    "print(removedup(s))"
   ]
  },
  {
   "cell_type": "code",
   "execution_count": null,
   "id": "e026fe03",
   "metadata": {},
   "outputs": [],
   "source": []
  }
 ],
 "metadata": {
  "kernelspec": {
   "display_name": "Python 3 (ipykernel)",
   "language": "python",
   "name": "python3"
  },
  "language_info": {
   "codemirror_mode": {
    "name": "ipython",
    "version": 3
   },
   "file_extension": ".py",
   "mimetype": "text/x-python",
   "name": "python",
   "nbconvert_exporter": "python",
   "pygments_lexer": "ipython3",
   "version": "3.9.12"
  }
 },
 "nbformat": 4,
 "nbformat_minor": 5
}
