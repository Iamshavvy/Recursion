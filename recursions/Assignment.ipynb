{
 "cells": [
  {
   "cell_type": "markdown",
   "id": "34217cc1",
   "metadata": {},
   "source": [
    "# Geometric Sum"
   ]
  },
  {
   "cell_type": "code",
   "execution_count": 1,
   "id": "369ac4eb",
   "metadata": {},
   "outputs": [],
   "source": [
    "def geometricsum(k):\n",
    "    #Base Case\n",
    "    if k==0:\n",
    "        return 1\n",
    "    sum=geometricsum(k-1)\n",
    "    return sum+(1/(2**k))"
   ]
  },
  {
   "cell_type": "code",
   "execution_count": 7,
   "id": "8becf465",
   "metadata": {},
   "outputs": [
    {
     "name": "stdout",
     "output_type": "stream",
     "text": [
      "3\n",
      "1.87500\n"
     ]
    }
   ],
   "source": [
    "k=int(input())\n",
    "print('%.5f'% geometricsum(k))"
   ]
  },
  {
   "cell_type": "markdown",
   "id": "b9c0ff4a",
   "metadata": {},
   "source": [
    "# Check Palindrome (recursive) (strings)"
   ]
  },
  {
   "cell_type": "code",
   "execution_count": 15,
   "id": "d123d8b7",
   "metadata": {},
   "outputs": [],
   "source": [
    "def palindrome(s, start, end) :\n",
    "     \n",
    "    if (start == end):\n",
    "        return True\n",
    "\n",
    "    if (s[start] != s[end]) :\n",
    "        return False\n",
    "\n",
    "    if (start < end + 1) :\n",
    "        return palindrome(s, start + 1, end - 1);\n",
    " \n",
    "    return True\n"
   ]
  },
  {
   "cell_type": "code",
   "execution_count": 21,
   "id": "fbe38160",
   "metadata": {},
   "outputs": [
    {
     "name": "stdout",
     "output_type": "stream",
     "text": [
      "abc\n",
      "False\n"
     ]
    }
   ],
   "source": [
    "s=input()\n",
    "print(palindrome(s,0,len(s)-1))"
   ]
  },
  {
   "cell_type": "markdown",
   "id": "21a05b74",
   "metadata": {},
   "source": [
    "# Sum of digits (recursive)"
   ]
  },
  {
   "cell_type": "code",
   "execution_count": 23,
   "id": "34f2bff4",
   "metadata": {},
   "outputs": [],
   "source": [
    "def sod(n):\n",
    "    if n==0:\n",
    "        return 0\n",
    "    digit=n%10\n",
    "    sum_n_1=sod(n//10)\n",
    "    return sum_n_1+digit"
   ]
  },
  {
   "cell_type": "code",
   "execution_count": 25,
   "id": "d93b3bd8",
   "metadata": {},
   "outputs": [
    {
     "name": "stdout",
     "output_type": "stream",
     "text": [
      "123456\n",
      "21\n"
     ]
    }
   ],
   "source": [
    "n=int(input())\n",
    "print(sod(n))"
   ]
  },
  {
   "cell_type": "markdown",
   "id": "da204c8b",
   "metadata": {},
   "source": [
    "# Multiplication Recursive"
   ]
  },
  {
   "cell_type": "raw",
   "id": "a0730b03",
   "metadata": {},
   "source": [
    "Given two integers M & N, calculate and return their multiplication using recursion. You can only use subtraction and addition for your calculation. No other operators are allowed."
   ]
  },
  {
   "cell_type": "code",
   "execution_count": 26,
   "id": "e19c668a",
   "metadata": {},
   "outputs": [],
   "source": [
    "def mul_rec(n,m):\n",
    "    if m==0:\n",
    "        return 0\n",
    "    resmul=mul_rec(n,m-1)\n",
    "    return resmul+n"
   ]
  },
  {
   "cell_type": "code",
   "execution_count": 34,
   "id": "73b2b63a",
   "metadata": {},
   "outputs": [
    {
     "name": "stdout",
     "output_type": "stream",
     "text": [
      "2\n",
      "3\n",
      "6\n"
     ]
    }
   ],
   "source": [
    "n=int(input())\n",
    "m=int(input())\n",
    "print(mul_rec(n,m))"
   ]
  },
  {
   "cell_type": "markdown",
   "id": "f7fedaca",
   "metadata": {},
   "source": [
    "# Count Zeros"
   ]
  },
  {
   "cell_type": "code",
   "execution_count": 57,
   "id": "470ebad3",
   "metadata": {},
   "outputs": [],
   "source": [
    "def count_zero(n):\n",
    "    if n==0:\n",
    "        return 1\n",
    "    last_digit=n%10\n",
    "    number=n//10\n",
    "    if number==0:\n",
    "        return 0\n",
    "    else:\n",
    "        sum=count_zero(number)\n",
    "    \n",
    "    if last_digit==0:\n",
    "        return sum+1\n",
    "    else:\n",
    "        return sum\n",
    "        "
   ]
  },
  {
   "cell_type": "code",
   "execution_count": 65,
   "id": "e3fde880",
   "metadata": {},
   "outputs": [
    {
     "name": "stdout",
     "output_type": "stream",
     "text": [
      "00020505050\n",
      "4\n"
     ]
    }
   ],
   "source": [
    "n=int(input())\n",
    "print(count_zero(n))"
   ]
  },
  {
   "cell_type": "markdown",
   "id": "a6636e32",
   "metadata": {},
   "source": [
    "# String to Integer"
   ]
  },
  {
   "cell_type": "code",
   "execution_count": 71,
   "id": "ded4a9e4",
   "metadata": {},
   "outputs": [],
   "source": [
    "def stoi(s):\n",
    "    n=len(s)\n",
    "    if n==1:\n",
    "        return int(s)\n",
    "    number=stoi(s[:n-1])\n",
    "    return number*10+int(s[n-1])"
   ]
  },
  {
   "cell_type": "code",
   "execution_count": 76,
   "id": "015a7f34",
   "metadata": {},
   "outputs": [
    {
     "name": "stdout",
     "output_type": "stream",
     "text": [
      "12345600\n",
      "12345600\n",
      "<class 'int'>\n"
     ]
    }
   ],
   "source": [
    "s=input()\n",
    "print(stoi(s))\n",
    "print(type(stoi(s)))"
   ]
  },
  {
   "cell_type": "markdown",
   "id": "36855a91",
   "metadata": {},
   "source": [
    "# Pair Star"
   ]
  },
  {
   "cell_type": "markdown",
   "id": "66eb1a79",
   "metadata": {},
   "source": [
    "Given a string S, compute recursively a new string where identical chars that are adjacent in the original string are separated from each other by a \"*\"."
   ]
  },
  {
   "cell_type": "code",
   "execution_count": 78,
   "id": "e7e33c6e",
   "metadata": {},
   "outputs": [],
   "source": [
    "def pairstar(s):\n",
    "    if len(s)==1:\n",
    "        return s\n",
    "    \n",
    "    newstring=pairstar(s[1:])\n",
    "    if s[0]==newstring[0]:\n",
    "        return s[0]+'*'+newstring\n",
    "    else:\n",
    "        return s[0]+newstring"
   ]
  },
  {
   "cell_type": "code",
   "execution_count": 83,
   "id": "a8690ab5",
   "metadata": {},
   "outputs": [
    {
     "name": "stdout",
     "output_type": "stream",
     "text": [
      "abc\n",
      "abc\n"
     ]
    }
   ],
   "source": [
    "s=input()\n",
    "print(pairstar(s))"
   ]
  },
  {
   "cell_type": "markdown",
   "id": "5484a235",
   "metadata": {},
   "source": [
    "# Check AB"
   ]
  },
  {
   "cell_type": "raw",
   "id": "8289e56a",
   "metadata": {},
   "source": [
    "Suppose you have a string, S, made up of only 'a's and 'b's. Write a recursive function that checks if the string was generated using the following rules:\n",
    "a. The string begins with an 'a'\n",
    "b. Each 'a' is followed by nothing or an 'a' or \"bb\"\n",
    "c. Each \"bb\" is followed by nothing or an 'a'"
   ]
  },
  {
   "cell_type": "code",
   "execution_count": 49,
   "id": "a679d180",
   "metadata": {},
   "outputs": [
    {
     "name": "stdout",
     "output_type": "stream",
     "text": [
      "aabb\n",
      "aabb\n",
      "abb\n",
      "\n",
      "true\n"
     ]
    }
   ],
   "source": [
    "def checkab(s):\n",
    "    print(s)\n",
    "    if s==\"\":\n",
    "        return True\n",
    "    if len(s)==1 and s[0]=='a':\n",
    "        return True\n",
    "    if s[0]=='a':\n",
    "        if s[1]=='a':\n",
    "            return checkab(s[1:])\n",
    "        elif s[1]=='b' and s[2]=='b':\n",
    "            return checkab(s[3:])\n",
    "        else:\n",
    "            print(\"returning false\")\n",
    "            return False\n",
    "\n",
    "\n",
    "s=input()        \n",
    "if checkab(s):\n",
    "    print('true')\n",
    "else:\n",
    "    print('false')\n",
    "    "
   ]
  },
  {
   "cell_type": "markdown",
   "id": "9e7fe91d",
   "metadata": {},
   "source": [
    "# Check Staircase"
   ]
  },
  {
   "cell_type": "markdown",
   "id": "2abcc097",
   "metadata": {},
   "source": [
    "A child is running up a staircase with N steps, and can hop either 1 step, 2 steps or 3 steps at a time. Implement a method to count how many possible ways the child can run up to the stairs. You need to return number of possible ways W."
   ]
  },
  {
   "cell_type": "code",
   "execution_count": 51,
   "id": "36897a77",
   "metadata": {},
   "outputs": [],
   "source": [
    "def checkstair(n):\n",
    "    if n==1:\n",
    "        return 1\n",
    "    if n==2:\n",
    "        return 2\n",
    "    if n==3:\n",
    "        return 4\n",
    "    return checkstair(n-3)+checkstair(n-2)+checkstair(n-1)"
   ]
  },
  {
   "cell_type": "code",
   "execution_count": 53,
   "id": "937feb5e",
   "metadata": {},
   "outputs": [
    {
     "name": "stdout",
     "output_type": "stream",
     "text": [
      "10\n",
      "274\n"
     ]
    }
   ],
   "source": [
    "n=int(input())\n",
    "print(checkstair(n))"
   ]
  }
 ],
 "metadata": {
  "kernelspec": {
   "display_name": "Python 3 (ipykernel)",
   "language": "python",
   "name": "python3"
  },
  "language_info": {
   "codemirror_mode": {
    "name": "ipython",
    "version": 3
   },
   "file_extension": ".py",
   "mimetype": "text/x-python",
   "name": "python",
   "nbconvert_exporter": "python",
   "pygments_lexer": "ipython3",
   "version": "3.9.12"
  }
 },
 "nbformat": 4,
 "nbformat_minor": 5
}
