{
 "cells": [
  {
   "cell_type": "code",
   "execution_count": 4,
   "id": "b3ad5415",
   "metadata": {},
   "outputs": [
    {
     "name": "stdout",
     "output_type": "stream",
     "text": [
      "4\n",
      "moved disc 1 from source a to destination b\n",
      "moved disc 2 th from source a to destination c\n",
      "moved disc 1 from source b to destination c\n",
      "moved disc 3 th from source a to destination b\n",
      "moved disc 1 from source c to destination a\n",
      "moved disc 2 th from source c to destination b\n",
      "moved disc 1 from source a to destination b\n",
      "moved disc 4 th from source a to destination c\n",
      "moved disc 1 from source b to destination c\n",
      "moved disc 2 th from source b to destination a\n",
      "moved disc 1 from source c to destination a\n",
      "moved disc 3 th from source b to destination c\n",
      "moved disc 1 from source a to destination b\n",
      "moved disc 2 th from source a to destination c\n",
      "moved disc 1 from source b to destination c\n"
     ]
    }
   ],
   "source": [
    "def towerofhanoi(n, source, hel, dest):\n",
    "    if n==0:\n",
    "        return\n",
    "    if n==1:\n",
    "        print(\"moved disc\",n,\"from source\",source,\"to destination\",dest)\n",
    "        return\n",
    "    towerofhanoi(n-1,source,dest,hel)\n",
    "    print(\"moved disc\",n,\"th from source\",source,\"to destination\",dest)\n",
    "    towerofhanoi(n-1,hel,source,dest)\n",
    "\n",
    "n=int(input())\n",
    "towerofhanoi(n, 'a', 'b', 'c')\n",
    "\n"
   ]
  },
  {
   "cell_type": "code",
   "execution_count": null,
   "id": "2124e5bd",
   "metadata": {},
   "outputs": [],
   "source": []
  },
  {
   "cell_type": "code",
   "execution_count": null,
   "id": "1c1012ec",
   "metadata": {},
   "outputs": [],
   "source": []
  }
 ],
 "metadata": {
  "kernelspec": {
   "display_name": "Python 3 (ipykernel)",
   "language": "python",
   "name": "python3"
  },
  "language_info": {
   "codemirror_mode": {
    "name": "ipython",
    "version": 3
   },
   "file_extension": ".py",
   "mimetype": "text/x-python",
   "name": "python",
   "nbconvert_exporter": "python",
   "pygments_lexer": "ipython3",
   "version": "3.9.12"
  }
 },
 "nbformat": 4,
 "nbformat_minor": 5
}
